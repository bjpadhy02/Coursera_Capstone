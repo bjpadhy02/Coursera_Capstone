{
    "cells": [
        {
            "cell_type": "markdown",
            "metadata": {
                "collapsed": true
            },
            "source": "## This is Assignment for Week 4 Capstone Project"
        },
        {
            "cell_type": "markdown",
            "metadata": {},
            "source": "### Question 1 of the Assignment"
        },
        {
            "cell_type": "markdown",
            "metadata": {},
            "source": "Description of the Problem: Learning the Similarities between New York and Toronto"
        },
        {
            "cell_type": "markdown",
            "metadata": {},
            "source": "Discussion of the background: We will use New York and Toronto case study from previous weeks and build a model to study the similarities and dis similiraities between the two big cities of North American Countries USA and Canada. "
        },
        {
            "cell_type": "markdown",
            "metadata": {},
            "source": "### Question 2 of the assignment"
        },
        {
            "cell_type": "markdown",
            "metadata": {},
            "source": "Description of Data: We will use the links provided in previous weeks along with Four Square data/API to achieve the solutions to problem in Question 1"
        },
        {
            "cell_type": "code",
            "execution_count": null,
            "metadata": {},
            "outputs": [],
            "source": ""
        }
    ],
    "metadata": {
        "kernelspec": {
            "display_name": "Python 3.6",
            "language": "python",
            "name": "python3"
        },
        "language_info": {
            "codemirror_mode": {
                "name": "ipython",
                "version": 3
            },
            "file_extension": ".py",
            "mimetype": "text/x-python",
            "name": "python",
            "nbconvert_exporter": "python",
            "pygments_lexer": "ipython3",
            "version": "3.6.9"
        }
    },
    "nbformat": 4,
    "nbformat_minor": 1
}