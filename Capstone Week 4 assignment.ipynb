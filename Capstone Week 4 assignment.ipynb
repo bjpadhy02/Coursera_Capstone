{
    "cells": [
        {
            "cell_type": "markdown",
            "metadata": {
                "collapsed": true
            },
            "source": "## This is Assignment for Week 4 Capstone Project"
        },
        {
            "cell_type": "markdown",
            "metadata": {},
            "source": "### Question 1 of the Assignment"
        },
        {
            "cell_type": "markdown",
            "metadata": {},
            "source": "### `Description of the Problem:` \nLearning the Similarities between New York and Toronto\n\n**Introduction**\n\nFor this Capstone project, I am creating a hypothetical scenario for a concept Indian restaurant Chain who wants to explore opening an authentic Indian restaurant in Toronto neighborhood. The idea behind this project is that there is an Indian restaurant in New York City that got a huge response from audience and it might present a great opportunity for this food chain to think about expanding its chain in Toronto, Canada. With the purpose in mind to be as popular as the restaurant in NYC, finding the location to open such a restaurant is one of the most important decisions for this restaurant chain and I am designing this project to help them find the most suitable location.\n\n**Business Problem**\n\nThe objective of this capstone project is to find the most suitable location for the Restaurant Chain to open a new Indian restaurant in Toronto, Canada. By using data science methods and machine learning methods such as clustering, this project aims to provide solutions to answer the business question: In Toronto, if an Restaurant chain wants to open an Indian restaurant and gain similar popularity as they got in NYC, where should they consider opening it?\n\n**Target Audience**\n\nThe restaurant chain who wants to find the location to open authentic Indian restaurant"
        },
        {
            "cell_type": "markdown",
            "metadata": {},
            "source": "### Question 2 of the assignment"
        },
        {
            "cell_type": "markdown",
            "metadata": {},
            "source": "### `Description of Data: ` \n\n**Data**\n\nTo solve this problem, we will need below data:\n\n1. List of neighborhoods in Toronto, Canada and NYC, USA.\n2. Latitude and Longitude of these neighborhoods.\n3. Venue data related to other Indian restaurants. This will help us find the neighborhoods that are most suitable to open a Indian restaurant.\n\n**Extracting the data**\n\n* Scrapping of Toronto and NYC neighborhoods via Wikipedia\n* Getting Latitude and Longitude data of these neighborhoods via Geocoder package\n* Using Foursquare API to get venue data related to these neighborhoods"
        },
        {
            "cell_type": "code",
            "execution_count": null,
            "metadata": {},
            "outputs": [],
            "source": ""
        }
    ],
    "metadata": {
        "kernelspec": {
            "display_name": "Python 3.6",
            "language": "python",
            "name": "python3"
        },
        "language_info": {
            "codemirror_mode": {
                "name": "ipython",
                "version": 3
            },
            "file_extension": ".py",
            "mimetype": "text/x-python",
            "name": "python",
            "nbconvert_exporter": "python",
            "pygments_lexer": "ipython3",
            "version": "3.6.9"
        }
    },
    "nbformat": 4,
    "nbformat_minor": 1
}